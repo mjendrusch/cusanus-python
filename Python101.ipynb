{
 "cells": [
  {
   "cell_type": "code",
   "execution_count": null,
   "metadata": {
    "collapsed": true
   },
   "outputs": [],
   "source": [
    "# Sprachkurs Python3.6"
   ]
  },
  {
   "cell_type": "code",
   "execution_count": 1,
   "metadata": {
    "collapsed": false
   },
   "outputs": [
    {
     "name": "stdout",
     "output_type": "stream",
     "text": [
      "Hallo zusammen!\n"
     ]
    }
   ],
   "source": [
    "print(\"Hallo zusammen!\")"
   ]
  },
  {
   "cell_type": "markdown",
   "metadata": {},
   "source": [
    "## Die Grammatik des `print`-Befehls\n",
    "Print nimmt beliebig viele Argumente. Je nach Argumenten verhält sich der Befehl unterschiedlich "
   ]
  },
  {
   "cell_type": "code",
   "execution_count": 203,
   "metadata": {
    "collapsed": false
   },
   "outputs": [
    {
     "name": "stdout",
     "output_type": "stream",
     "text": [
      "Ich bin ein Text, und ende mit einer neuen Zeile!\n",
      "Ich bin ein Text, und gehe weiter in der letzten Zeile.\n",
      "1,2,3,4\n"
     ]
    }
   ],
   "source": [
    "# Einfaches print:\n",
    "print(\"Ich bin ein Text, und ende mit einer neuen Zeile!\")\n",
    "# Print ohne neue Zeile:\n",
    "print(\"Ich bin ein Text, \", end=\"\")\n",
    "# Print mit mehreren Argumenten:\n",
    "print(\"und\", \"gehe\", \"weiter\", \"in\", \"der\", \"letzten\", \"Zeile.\")\n",
    "# Print mit beliebigem Separator:\n",
    "print(1, 2, 3, 4, sep=\",\")"
   ]
  },
  {
   "cell_type": "markdown",
   "metadata": {},
   "source": [
    "## Zahlen\n",
    "In Python gibt es zwei unterschiedliche Arten von Zahlen."
   ]
  },
  {
   "cell_type": "code",
   "execution_count": 3,
   "metadata": {
    "collapsed": false
   },
   "outputs": [
    {
     "name": "stdout",
     "output_type": "stream",
     "text": [
      "1 19 42\n"
     ]
    }
   ],
   "source": [
    "# Ganze Zahlen (Integer)\n",
    "print(1, 19, 42)"
   ]
  },
  {
   "cell_type": "code",
   "execution_count": 4,
   "metadata": {
    "collapsed": false
   },
   "outputs": [
    {
     "name": "stdout",
     "output_type": "stream",
     "text": [
      "1.11 1.2e+60 3.1415\n"
     ]
    }
   ],
   "source": [
    "# Gleitkommazahlen (Float)\n",
    "print(1.11, 1.2e60, 3.1415)"
   ]
  },
  {
   "cell_type": "markdown",
   "metadata": {},
   "source": [
    "## Wahrheitswerte"
   ]
  },
  {
   "cell_type": "code",
   "execution_count": 5,
   "metadata": {
    "collapsed": false
   },
   "outputs": [
    {
     "name": "stdout",
     "output_type": "stream",
     "text": [
      "True False\n"
     ]
    }
   ],
   "source": [
    "# Wahr und Falsch\n",
    "print(True, False)"
   ]
  },
  {
   "cell_type": "markdown",
   "metadata": {},
   "source": [
    "## Zeichenketten (Strings)\n",
    "Python kann auch Zeichenketten, wie zum Beispiel diesen Satz, darstellen."
   ]
  },
  {
   "cell_type": "code",
   "execution_count": 6,
   "metadata": {
    "collapsed": false
   },
   "outputs": [
    {
     "name": "stdout",
     "output_type": "stream",
     "text": [
      "Python kann auch Zeichenketten, wie zum Beispiel diesen Satz, darstellen.\n",
      "Python kann auch Zeichenketten, wie zum Beispiel diesen Satz, darstellen.\n",
      "Python kann auch Zeichenketten, wie zum Beispiel diesen Satz, darstellen.\n"
     ]
    }
   ],
   "source": [
    "# Zeichenkette mit \"...\"\n",
    "print(\n",
    "    \"Python kann auch Zeichenketten, wie zum Beispiel diesen Satz, darstellen.\")\n",
    "# Zeichenkette mit '...'\n",
    "print(\n",
    "    'Python kann auch Zeichenketten, wie zum Beispiel diesen Satz, darstellen.')\n",
    "# Zeichenkette mit \"\"\"...\"\"\"\n",
    "print(\n",
    "    \"\"\"Python kann auch Zeichenketten, wie zum Beispiel diesen Satz, darstellen.\"\"\")"
   ]
  },
  {
   "cell_type": "markdown",
   "metadata": {},
   "source": [
    "## Variablen\n",
    "\n",
    "Variablen sind eine Möglichkeit, in Python Werte mit Namen zu verknüpfen."
   ]
  },
  {
   "cell_type": "code",
   "execution_count": 9,
   "metadata": {
    "collapsed": false
   },
   "outputs": [
    {
     "name": "stdout",
     "output_type": "stream",
     "text": [
      "In der Variable steht 22\n",
      "In der Variable steht jetzt 42\n",
      "In der Variable steht jetzt Hallo I bims ein String.\n"
     ]
    }
   ],
   "source": [
    "# Ich weise einer Variable einen Wert zu:\n",
    "ich_bin_eine_zahl = 22\n",
    "print(\"In der Variable steht\", ich_bin_eine_zahl)\n",
    "# Ich weise ihr einen neuen Wert zu:\n",
    "ich_bin_eine_zahl = ich_bin_eine_zahl + 10\n",
    "# oder:\n",
    "ich_bin_eine_zahl += 10\n",
    "print(\"In der Variable steht jetzt\", ich_bin_eine_zahl)\n",
    "# Ich kann auch etwas ganz anderes in die Variable schreiben:\n",
    "ich_bin_eine_zahl = \"Hallo I bims ein String.\"\n",
    "print(\"In der Variable steht jetzt\", ich_bin_eine_zahl)"
   ]
  },
  {
   "cell_type": "markdown",
   "metadata": {},
   "source": [
    "## Listen\n",
    "Manchmal möchte man mehrere zusammenhängende Werte nicht einzeln aufbewahren, sondern zusammen, in einer bestimmten Reihenfolge. Dafür nimmt man dann eine Liste."
   ]
  },
  {
   "cell_type": "code",
   "execution_count": 13,
   "metadata": {
    "collapsed": false
   },
   "outputs": [
    {
     "name": "stdout",
     "output_type": "stream",
     "text": [
      "[1, 2, 3, 77, 128]\n",
      "[1.1, 1.2, 1.3, 1.011178]\n",
      "['Hallo', 'I', 'bims']\n",
      "['Hallo', 'I', 'bims', 1, 'Program!', 3.1415, ['Lol', 111]]\n",
      "Erstes Element: Hallo\n",
      "Zweites Element: I\n",
      "Letztes Element: ['Lol', 111]\n",
      "Vorletztes Element: 3.1415\n",
      "Erstes Element: 42\n",
      "Liste vom zweiten bis zum fünften Element:  ['I', 'bims', 1, 'Program!']\n"
     ]
    }
   ],
   "source": [
    "# Liste von Integers:\n",
    "print([1, 2, 3, 77, 128])\n",
    "# Liste von Floats:\n",
    "print([1.1, 1.2, 1.3, 1.011178])\n",
    "# Liste von Zeichenketten:\n",
    "print([\"Hallo\", \"I\", \"bims\"])\n",
    "# Liste von was auch immer:\n",
    "print([\"Hallo\", \"I\", \"bims\", 1, \"Program!\", 3.1415, [\"Lol\", 111]])\n",
    "\n",
    "# Ich schreibe jetzt eine Liste in eine Variable:\n",
    "meine_liste = [\"Hallo\", \"I\", \"bims\", 1, \"Program!\", 3.1415, [\"Lol\", 111]]\n",
    "# dann kann ich auf die Elemente der Liste zugreifen:\n",
    "print(\"Erstes Element:\", meine_liste[0])\n",
    "print(\"Zweites Element:\", meine_liste[1])\n",
    "print(\"Letztes Element:\", meine_liste[-1])\n",
    "print(\"Vorletztes Element:\", meine_liste[-2])\n",
    "# und sie auch verändern:\n",
    "meine_liste[0] = 42\n",
    "print(\"Erstes Element:\", meine_liste[0])\n",
    "# oder Unterabschnitte der Liste auswählen:\n",
    "print(\"Liste vom zweiten bis zum fünften Element: \", meine_liste[1:5])"
   ]
  },
  {
   "cell_type": "code",
   "execution_count": 204,
   "metadata": {
    "collapsed": false
   },
   "outputs": [
    {
     "name": "stdout",
     "output_type": "stream",
     "text": [
      "Erster Buchstabe: T\n",
      "Erstes Element: 1\n",
      "TextTextTextTextTextTextTextTextTextText\n",
      "[1, 2, 3, 4, 1, 2, 3, 4, 1, 2, 3, 4, 1, 2, 3, 4, 1, 2, 3, 4, 1, 2, 3, 4, 1, 2, 3, 4, 1, 2, 3, 4, 1, 2, 3, 4, 1, 2, 3, 4]\n",
      "#Text\n",
      "[1, 2, 3, 4, 5]\n",
      "ex\n",
      "[2, 3]\n"
     ]
    }
   ],
   "source": [
    "# Listen und Strings besitzen einen gemeinsamen Satz an Operationen:\n",
    "# 1. Zugriff:\n",
    "mein_string = \"Text\"\n",
    "meine_liste = [1, 2, 3, 4]\n",
    "print(\"Erster Buchstabe:\", mein_string[0])\n",
    "print(\"Erstes Element:\", meine_liste[0])\n",
    "# 2. Multiplikation:\n",
    "print(mein_string * 10)\n",
    "print(meine_liste * 10)\n",
    "# 3. Verkettung:\n",
    "print(\"#\" + mein_string)\n",
    "print(meine_liste + [5])\n",
    "# 4. Substring:\n",
    "print(mein_string[1:3])\n",
    "print(meine_liste[1:3])"
   ]
  },
  {
   "cell_type": "markdown",
   "metadata": {},
   "source": [
    "## Dictionaries\n",
    "Wenn wir Werte nicht nur in einer bestimmten Reihenfolge zusammenfassen wollen, sondern mit einem Satz anderer Werte verknüpft, können wir Dictionaries verwenden."
   ]
  },
  {
   "cell_type": "code",
   "execution_count": 15,
   "metadata": {
    "collapsed": false
   },
   "outputs": [
    {
     "name": "stdout",
     "output_type": "stream",
     "text": [
      "{42: 'Die Lösung', 'Hallo': 'I bims.'}\n",
      "Wert für \"Hallo\": I bims.\n",
      "Wert für \"Hallo\": Welt!\n",
      "{42: 'Die Lösung', 'Foo': 'Bar', 'Hallo': 'Welt!'}\n"
     ]
    }
   ],
   "source": [
    "# Dictionary mit zwei Einträgen:\n",
    "mein_dictionary = {\n",
    "    \"Hallo\": \"I bims.\",\n",
    "    42: \"Die Lösung\"\n",
    "}\n",
    "print(mein_dictionary)\n",
    "\n",
    "# Auch hier kann ich auf Werte im Dictionary zugreifen:\n",
    "print(\"Wert für \\\"Hallo\\\":\", mein_dictionary[\"Hallo\"])\n",
    "# oder sie verändern:\n",
    "mein_dictionary[\"Hallo\"] = \"Welt!\"\n",
    "print(\"Wert für \\\"Hallo\\\":\", mein_dictionary[\"Hallo\"])\n",
    "# oder neue hinzufügen:\n",
    "mein_dictionary[\"Foo\"] = \"Bar\"\n",
    "print(mein_dictionary)"
   ]
  },
  {
   "cell_type": "markdown",
   "metadata": {},
   "source": [
    "## Funktionen\n",
    "Ihr findet es doch sicher auch ätzend, alles tausend mal wiederholen zu müssen. Glücklicherweise gibt es in den meisten Programmiersprachen Wege, um Dinge nur einmal sagen zu müssen. Diese werden je nach Sprache als Routines, Subroutines, Procedures oder Functions bezeichnet. Wir nennen diese Bausteine Funktionen."
   ]
  },
  {
   "cell_type": "code",
   "execution_count": 17,
   "metadata": {
    "collapsed": false
   },
   "outputs": [
    {
     "name": "stdout",
     "output_type": "stream",
     "text": [
      "Hallo, was auch immer dein Name ist!\n",
      "Hallo Welt!\n",
      "Hallo Python!\n",
      "Hallo Freckenhorst!\n"
     ]
    }
   ],
   "source": [
    "# Wir wollen Leute begrüßen, aber nicht jedes mal sagen müssen:\n",
    "print(\"Hallo, was auch immer dein Name ist!\")\n",
    "# deswegen definieren wir uns eine Funktion,\n",
    "# der wir nur noch den Namen geben müssen und die\n",
    "# den Rest für uns erledigt:\n",
    "def begrüße(name):\n",
    "    print(\"Hallo \" + name + \"!\")\n",
    "# dann können wir diese Funktion immer wieder verwenden,\n",
    "# wenn wir jemanden begrüßen wollen:\n",
    "begrüße(\"Welt\")\n",
    "begrüße(\"Python\")\n",
    "begrüße(\"Freckenhorst\")"
   ]
  },
  {
   "cell_type": "code",
   "execution_count": 208,
   "metadata": {
    "collapsed": false
   },
   "outputs": [
    {
     "name": "stdout",
     "output_type": "stream",
     "text": [
      "42 im Quadrat: 1764\n"
     ]
    }
   ],
   "source": [
    "# Funktionen können auch Dinge zurückgeben,\n",
    "# die sich Variablen zuweisen lassen.\n",
    "\n",
    "# Wir wollen zum Beispiel das Quadrat einer Zahl berechnen:\n",
    "def quadriere(zahl):\n",
    "    return zahl * zahl\n",
    "\n",
    "# oder:\n",
    "def quadriereV2(zahl):\n",
    "    ergebnis = zahl * zahl\n",
    "    return ergebnis\n",
    "\n",
    "print(\"42 im Quadrat:\", quadriere(42))"
   ]
  },
  {
   "cell_type": "markdown",
   "metadata": {},
   "source": [
    "## Kontrollstrukturen\n",
    "Manchmal wollen wir Programme nicht volkommen geradlinig ausführen, sondern für unterschiedliche Eingaben unterschiedliche Verhaltensweisen anwenden, Programmteile mehrfach ausführen, oder Programmteile bei Programmfehlern zur Laufzeit schmerzlos verlassen.\n",
    "Dazu verwenden wir sogenannte Kontrollstrukturen. Mehr dazu im Codebeispiel."
   ]
  },
  {
   "cell_type": "code",
   "execution_count": 24,
   "metadata": {
    "collapsed": false
   },
   "outputs": [
    {
     "name": "stdout",
     "output_type": "stream",
     "text": [
      "Die Mathematik funktioniert!\n"
     ]
    }
   ],
   "source": [
    "# Wollen wir Programmteile konditional ausführen,\n",
    "# so verwenden wir die `if` Kontrollstruktur:\n",
    "if 0 + 1 == 1:\n",
    "    # Wird ausgeführt, wenn 0 + 1 == 1\n",
    "    print(\"Die Mathematik funktioniert!\")\n",
    "else:\n",
    "    # Wird ausgeführt, wenn 0 + 1 != 1\n",
    "    print(\"Oh nein, die Welt geht unter!!!\")"
   ]
  },
  {
   "cell_type": "code",
   "execution_count": 215,
   "metadata": {
    "collapsed": false
   },
   "outputs": [
    {
     "name": "stdout",
     "output_type": "stream",
     "text": [
      "Null\n"
     ]
    }
   ],
   "source": [
    "# Wollen wir mehr als eine Alternative behandeln,\n",
    "# verwenden wir `if` mit `elif` (else, if):\n",
    "import random\n",
    "a = random.randint(0,4)\n",
    "if a == 0:\n",
    "    print(\"Null\")\n",
    "elif a == 1:\n",
    "    print(\"Eins\")\n",
    "else:\n",
    "    print(\"Ist mir doch egal!!!\")"
   ]
  },
  {
   "cell_type": "code",
   "execution_count": 216,
   "metadata": {
    "collapsed": false
   },
   "outputs": [
    {
     "name": "stdout",
     "output_type": "stream",
     "text": [
      "111th? 111th\n"
     ]
    }
   ],
   "source": [
    "# Als komplexeres Beispiel wollen wir den Postfix\n",
    "# für die Aufzählung von Zahlen bestimmen und\n",
    "# uns die Aufzählung zurückgeben lassen:\n",
    "def aufzählen_postfix(zahl):\n",
    "    if zahl == 1:\n",
    "        return \"st\"\n",
    "    elif zahl == 2:\n",
    "        return \"nd\"\n",
    "    elif zahl == 3:\n",
    "        return \"rd\"\n",
    "    elif zahl < 20:\n",
    "        return \"th\"\n",
    "    elif zahl < 100:\n",
    "        return aufzählen_postfix(zahl % 10)\n",
    "    else:\n",
    "        return aufzählen_postfix(zahl % 100)\n",
    "\n",
    "def aufzählen(zahl):\n",
    "    return str(zahl) + aufzählen_postfix(zahl)\n",
    "\n",
    "print(\"111th?\", aufzählen(111))"
   ]
  },
  {
   "cell_type": "code",
   "execution_count": 217,
   "metadata": {
    "collapsed": false
   },
   "outputs": [
    {
     "name": "stdout",
     "output_type": "stream",
     "text": [
      "1st\n",
      "2nd\n",
      "3rd\n",
      "4th\n",
      "5th\n",
      "6th\n",
      "7th\n",
      "8th\n",
      "9th\n",
      "10th\n"
     ]
    }
   ],
   "source": [
    "# Wollen wir ein Teil des Programms ausführen,\n",
    "# solange eine Bedingung wahr ist, nutzen wir\n",
    "# `while`:\n",
    "\n",
    "a = 0\n",
    "while a < 10:\n",
    "    a += 1\n",
    "    print(aufzählen(a))"
   ]
  },
  {
   "cell_type": "code",
   "execution_count": 218,
   "metadata": {
    "collapsed": false
   },
   "outputs": [
    {
     "name": "stdout",
     "output_type": "stream",
     "text": [
      "Mit einer Liste:\n",
      "0\n",
      "1\n",
      "2\n",
      "3\n",
      "Mit einem Dictionary:\n",
      "a\n",
      "b\n",
      "Mit `items`:\n",
      "a = 1\n",
      "b = 2\n",
      "Als Zählschleife:\n",
      "0\n",
      "1\n",
      "2\n",
      "3\n",
      "4\n",
      "5\n",
      "6\n",
      "7\n",
      "8\n",
      "9\n",
      "Mit einem Iterator:\n",
      "1st\n",
      "2nd\n",
      "3rd\n",
      "4th\n",
      "5th\n",
      "6th\n",
      "7th\n",
      "8th\n",
      "9th\n",
      "10th\n"
     ]
    }
   ],
   "source": [
    "# Wollen wir einen Teil des Programms für\n",
    "# alle Werte in einer Liste oder einem\n",
    "# Iterator ausführen, nutzen wir `for`:\n",
    "\n",
    "print(\"Mit einer Liste:\")\n",
    "aufzählbar = [0, 1, 2, 3]\n",
    "\n",
    "for element in aufzählbar:\n",
    "    # Tun wir etwas mit jedem Element einer Liste.\n",
    "    print(element)\n",
    "    \n",
    "print(\"Mit einem Dictionary:\")\n",
    "aufzählbar = {\"a\": 1, \"b\": 2}\n",
    "\n",
    "for element in aufzählbar:\n",
    "    # Sieht ganz ähnlich aus ...\n",
    "    # Macht es, was ihr erwartet?\n",
    "    print(element)\n",
    "\n",
    "print(\"Mit `items`:\")\n",
    "for schlüssel, wert in aufzählbar.items():\n",
    "    # Das ist eher das, was man erwarten würde.\n",
    "    print(schlüssel, \"=\", wert)\n",
    "\n",
    "print(\"Als Zählschleife:\")\n",
    "for idx in range(0, 10):\n",
    "    # Läuft einmal für jeden Wert zwischen 0 und 10,\n",
    "    # 10 nicht eingeschlossen.\n",
    "    print(idx)\n",
    "    \n",
    "print(\"Mit einem Iterator:\")\n",
    "def aufzählbar(bis_zahl):\n",
    "    for idx in range(1, bis_zahl + 1):\n",
    "        # Während Funktionen einen Wert ausgeben und\n",
    "        # dann die Kontrolle mit `return` zurückgeben,\n",
    "        # ermöglichen Iteratoren über `yield`,\n",
    "        # mehrere Werte hintereinander zurück zu geben,\n",
    "        # über welche in einer `for`-Schleife iteriert\n",
    "        # werde kann.\n",
    "        yield aufzählen(idx)\n",
    "        \n",
    "for element in aufzählbar(10):\n",
    "    # Sieht doch ganz schön aus...\n",
    "    print(element)"
   ]
  },
  {
   "cell_type": "markdown",
   "metadata": {
    "collapsed": true
   },
   "source": [
    "## Dekoratoren (weiterführend)\n",
    "Manchmal wollen wir eine modulare Möglichkeit haben, Funktionen abzuändern. Diese ist uns durch Dekoratoren geboten."
   ]
  },
  {
   "cell_type": "code",
   "execution_count": 117,
   "metadata": {
    "collapsed": false
   },
   "outputs": [
    {
     "name": "stdout",
     "output_type": "stream",
     "text": [
      "573147844013817084101\n"
     ]
    }
   ],
   "source": [
    "# Rekursion ist teuer...\n",
    "# Merken wir uns lieber, welcher Wert bei einer Funktion heraus kommt...\n",
    "def memoize(a):\n",
    "    def helferfunktion(*x):\n",
    "        if x not in helferfunktion.memo:\n",
    "            helferfunktion.memo[x] = a(*x)\n",
    "        return helferfunktion.memo[x]\n",
    "    helferfunktion.memo = {}\n",
    "    return helferfunktion\n",
    "\n",
    "@memoize\n",
    "def fib(x):\n",
    "    # Diese Funktion würde uns ziemlich schnell explodieren,\n",
    "    # wenn sie komplett rekursiv wäre.\n",
    "    # Mit unserem sich Dinge merkendem Dekorator ist dieses\n",
    "    # Problem behoben.\n",
    "    if x == 0:\n",
    "        return 1\n",
    "    if x == 1:\n",
    "        return 1\n",
    "    else:\n",
    "        return fib(x - 1) + fib(x - 2)\n",
    "    \n",
    "print(fib(100))"
   ]
  },
  {
   "cell_type": "markdown",
   "metadata": {},
   "source": [
    "## Ein/Ausgabe (IO)\n",
    "Normalerweise wollen wir ein Programm nicht auf spezielle Werte zuschneiden, sondern es dem Nutzer ermöglichen, seine eigenen Eingaben zu liefern. Das ist in Python sehr einfach."
   ]
  },
  {
   "cell_type": "code",
   "execution_count": 221,
   "metadata": {
    "collapsed": false
   },
   "outputs": [
    {
     "name": "stdout",
     "output_type": "stream",
     "text": [
      "Nenne mir Deinen Namen!\n",
      "Karl-Heinz\n",
      "Hallo Karl-Heinz!\n"
     ]
    }
   ],
   "source": [
    "# Wir können Zeichenketten von der Konsole mittels `input()` einlesen.\n",
    "# Begrüßen wir mal Personen, die ihren Namen in die Konsole eingeben:\n",
    "print(\"Nenne mir Deinen Namen!\")\n",
    "name = input()\n",
    "begrüße(name)"
   ]
  },
  {
   "cell_type": "code",
   "execution_count": 222,
   "metadata": {
    "collapsed": false
   },
   "outputs": [
    {
     "name": "stdout",
     "output_type": "stream",
     "text": [
      "Sag mir bitte eine Zahl...\n",
      "10\n",
      "1st\n",
      "2nd\n",
      "3rd\n",
      "4th\n",
      "5th\n",
      "6th\n",
      "7th\n",
      "8th\n",
      "9th\n",
      "10th\n"
     ]
    }
   ],
   "source": [
    "# Wir nehmen in diesem Beispiel so eine Eingabe und machen daraus\n",
    "# eine ganze Zahl (Integer), indem wir `int` darauf anwenden.\n",
    "print(\"Sag mir bitte eine Zahl...\")\n",
    "for element in range(1, int(input()) + 1):\n",
    "    print(aufzählen(element))"
   ]
  },
  {
   "cell_type": "markdown",
   "metadata": {},
   "source": [
    "## Aufgabe: Tag der (Fahrtkosten-)Abrechnung\n",
    "Eure Aufgabe ist es, die Fahrtkostenabrechnung für die Ferienakademie zu digitalisieren. Ihr schreibt dafür zunächst ein Programm, welches die nötigen Informationen von der Konsole einliest:\n",
    "\n",
    "* Den vollständigen Namen der Person.\n",
    "* Deren Reisekosten.\n",
    "\n",
    "Das Einlesen von Daten soll durch die Eingabe von `exit` beendet werden können.\n",
    "Das Programm soll dann für alle eingegebenen Datenpunkte die mittleren Fahrtkosten (mean) und die jeweilige Differenz dazu ausrechnen und tabelliert ausgeben."
   ]
  },
  {
   "cell_type": "code",
   "execution_count": 164,
   "metadata": {
    "collapsed": false
   },
   "outputs": [
    {
     "name": "stdout",
     "output_type": "stream",
     "text": [
      "Willkommen bei der Abrechnung!\n",
      "\n",
      "Vor- und Zuname: max mustermann\n",
      "\n",
      "Kosten: 100.0\n",
      "\n",
      "Nächster ...\n",
      "\n",
      "Vor- und Zuname: melinda mustermann\n",
      "\n",
      "Kosten: 120\n",
      "\n",
      "Nächster ...\n",
      "exit\n",
      "\n",
      "\n",
      "--------------------------------------------------------------------------\n",
      "  Fahrtkostenabrechnung Akademie 42\n",
      "--------------------------------------------------------------------------\n",
      "Vor- und Zuname                          Fahrtkosten             Differenz\n",
      "max mustermann                              100.00 €              -10.00 €\n",
      "melinda mustermann                          120.00 €               10.00 €\n",
      "Mittlere Fahrtkosten:  110.0  €\n"
     ]
    }
   ],
   "source": [
    "def gelddrucken(name, kosten, differenz):\n",
    "    return \"{0:<30}{1:>20.2f} €{2:>20.2f} €\".format(name, kosten, differenz)\n",
    "\n",
    "def tagderabrechnung():\n",
    "    mittlere_fahrtkosten = 0.0\n",
    "    fahrtkosten = {}\n",
    "    differenzen = {}\n",
    "    print(\"Willkommen bei der Abrechnung!\")\n",
    "    while input() != \"exit\":\n",
    "        print(\"Vor- und Zuname: \", end=\"\")\n",
    "        name = input()\n",
    "        print(\"\")\n",
    "        print(\"Kosten: \", end=\"\")\n",
    "        kosten = float(input())\n",
    "        print(\"\")\n",
    "        print(\"Nächster ...\")\n",
    "        fahrtkosten[name] = kosten\n",
    "    for elem in fahrtkosten:\n",
    "        mittlere_fahrtkosten += fahrtkosten[elem]\n",
    "    mittlere_fahrtkosten /= len(fahrtkosten)\n",
    "    for elem in fahrtkosten:\n",
    "        differenzen[elem] = fahrtkosten[elem] - mittlere_fahrtkosten\n",
    "    print(\"\\n\")\n",
    "    print(\"-\" * 74)\n",
    "    print(\"  Fahrtkostenabrechnung Akademie 42\")\n",
    "    print(\"-\" * 74)\n",
    "    print(\"{0:<30}{1:>22}{2:>22}\".format(\"Vor- und Zuname\", \"Fahrtkosten\", \"Differenz\"))\n",
    "    for elem in fahrtkosten:\n",
    "        print(gelddrucken(elem, fahrtkosten[elem], differenzen[elem]))\n",
    "    print(\"Mittlere Fahrtkosten: \", mittlere_fahrtkosten, \" €\")\n",
    "        \n",
    "tagderabrechnung()"
   ]
  },
  {
   "cell_type": "markdown",
   "metadata": {},
   "source": [
    "## Plotting\n",
    "Immer wieder hat man Daten die man darstellen möchte. In Python gibt es Bibliotheken, die das einfach machen."
   ]
  },
  {
   "cell_type": "code",
   "execution_count": 160,
   "metadata": {
    "collapsed": false
   },
   "outputs": [
    {
     "data": {
      "text/plain": [
       "[<matplotlib.lines.Line2D at 0x7f2e25c9d438>]"
      ]
     },
     "execution_count": 160,
     "metadata": {},
     "output_type": "execute_result"
    },
    {
     "data": {
      "image/png": "[encoded data removed]",
      "text/plain": [
       "<matplotlib.figure.Figure at 0x7f2e2601cc50>"
      ]
     },
     "metadata": {},
     "output_type": "display_data"
    }
   ],
   "source": [
    "%matplotlib inline\n",
    "\n",
    "# Wir importieren hier eine Plotbibliothek\n",
    "from matplotlib import pyplot as plt\n",
    "from math import sin\n",
    "import numpy as np\n",
    "\n",
    "# Jetzt plotten wir mal einen Graphen\n",
    "x = np.arange(0, 10, 0.1)\n",
    "plt.plot(x, np.sin(x))\n",
    "plt.plot(x, np.cos(x))"
   ]
  },
  {
   "cell_type": "code",
   "execution_count": 193,
   "metadata": {
    "collapsed": false
   },
   "outputs": [
    {
     "data": {
      "text/plain": [
       "<Container object of 10 artists>"
      ]
     },
     "execution_count": 193,
     "metadata": {},
     "output_type": "execute_result"
    },
    {
     "data": {
      "image/png": "[encoded data removed]",
      "text/plain": [
       "<matplotlib.figure.Figure at 0x7f2e254817f0>"
      ]
     },
     "metadata": {},
     "output_type": "display_data"
    }
   ],
   "source": [
    "# Man kann auch andere Arten von Graphen erstellen:\n",
    "left = np.arange(0.66, 10.66, 1)\n",
    "width = 0.66\n",
    "height = np.arange(0, 10, 1)\n",
    "errorbar = np.asarray([random.random() for _ in range(10)])\n",
    "plt.bar(left, height, width, yerr = errorbar, ecolor = \"black\")"
   ]
  },
  {
   "cell_type": "code",
   "execution_count": 183,
   "metadata": {
    "collapsed": false
   },
   "outputs": [
    {
     "data": {
      "image/png": "[encoded data removed]",
      "text/plain": [
       "<matplotlib.figure.Figure at 0x7f2e258ac9b0>"
      ]
     },
     "metadata": {},
     "output_type": "display_data"
    }
   ],
   "source": [
    "# Wir bauen erstmal unsere x- und y-Achsen:\n",
    "x = np.arange(0, 10, 0.1)\n",
    "y = np.arange(0, 10, 0.1)\n",
    "# Dann blasen wir sie auf 2D auf:\n",
    "meshX, meshY = np.meshgrid(x, y)\n",
    "# Wir wollen die Funktion f(x, y) := sin(x) * sin(y) plotten.\n",
    "# Darum bauen wir uns eine Matrix dafür, unter Verwendung\n",
    "# unserer x- und y-Achsen:\n",
    "image = np.sin(meshX) * np.cos(meshY)\n",
    "\n",
    "# Jetzt, da wir eine Matrix haben, können wir sie plotten:\n",
    "fig, ax = plt.subplots()\n",
    "ax.imshow(image)\n",
    "ax.set_xticks(np.arange(0, 110, 10))\n",
    "ax.set_yticks(np.arange(0, 110, 10))\n",
    "ax.set_xticklabels(np.arange(0, 11, 1))\n",
    "ax.set_yticklabels(np.arange(0, 11, 1));"
   ]
  }
 ],
 "metadata": {
  "anaconda-cloud": {},
  "kernelspec": {
   "display_name": "Python [conda env:py3]",
   "language": "python",
   "name": "conda-env-py3-py"
  },
  "language_info": {
   "codemirror_mode": {
    "name": "ipython",
    "version": 3
   },
   "file_extension": ".py",
   "mimetype": "text/x-python",
   "name": "python",
   "nbconvert_exporter": "python",
   "pygments_lexer": "ipython3",
   "version": "3.5.2"
  }
 },
 "nbformat": 4,
 "nbformat_minor": 1
}
